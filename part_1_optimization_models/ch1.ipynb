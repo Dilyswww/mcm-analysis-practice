{
 "cells": [
  {
   "cell_type": "markdown",
   "metadata": {},
   "source": [
    "# Chapter 1 One Variable Optimization\n",
    "This notebook serves as a way to familiarize myself with the essential functions employed during math modeling.\n",
    "This is for Chapter 1 of Meerschaert"
   ]
  },
  {
   "cell_type": "code",
   "execution_count": 13,
   "metadata": {},
   "outputs": [],
   "source": [
    "# imports\n",
    "import math\n",
    "import numpy as np\n",
    "from scipy.optimize import minimize, minimize_scalar\n",
    "from sympy import symbols, diff, Eq, solve\n",
    "import matplotlib.pyplot as plt\n"
   ]
  },
  {
   "cell_type": "markdown",
   "metadata": {},
   "source": [
    "## Ex 1.1 The Pig Problem\n",
    "\n",
    "A pig weighing 200 pounds gains 5 pounds per day and costs 45 cents a day to keep. The market price for pigs is 65 cents per pound, but is falling 1 cent per day. When should the pig be sold?"
   ]
  },
  {
   "cell_type": "markdown",
   "metadata": {},
   "source": [
    "We declare the following:\n",
    "\n",
    "#### Variables:\n",
    "t = time (days)\n",
    "\n",
    "w = weight of pig (lbs)\n",
    "\n",
    "p = price for pigs (dollar/lb)\n",
    "\n",
    "C = cost of keeping pig t days (dollar)\n",
    "\n",
    "R = revenue obtained by selling pig (dollar) \n",
    "\n",
    "P = profit from sale of pig (dollar)\n",
    "\n",
    "#### Assumptions:\n",
    "w = 200 + 5t\n",
    "\n",
    "p = 0.65 − 0.01t C = 0.45t R=p·w P=R−C t≥0\n",
    "\n",
    "##### Objective:\n",
    "Maximize P"
   ]
  },
  {
   "cell_type": "code",
   "execution_count": 14,
   "metadata": {},
   "outputs": [
    {
     "name": "stdout",
     "output_type": "stream",
     "text": [
      "-0.45*x + (0.65 - 0.01*x)*(5*x + 200)\n",
      "f'(x):  0.8 - 0.1*x\n"
     ]
    }
   ],
   "source": [
    "# variable declarations\n",
    "t, w, p, C, R, P = symbols('t w p C R P')\n",
    "w = 200 + 5 * t\n",
    "p = 0.65 - 0.01 * t \n",
    "C = 0.45 * t\n",
    "R = p * w\n",
    "P = R - C\n",
    "\n",
    "# We want to maximize P when x = t >= 0. define P as f(x)\n",
    "x = symbols('x')\n",
    "f = P.subs({t: x})\n",
    "print(f)\n",
    "\n",
    "# find the derivative of f(x)\n",
    "dy_dx = diff(f, x)\n",
    "print(\"f'(x): \", dy_dx)\n"
   ]
  },
  {
   "cell_type": "markdown",
   "metadata": {},
   "source": [
    "Note that f'(x) achieves local maximum at 8, so $(x,y) = (8, 133.20)$ is the maximum. Hence we conclude that selling the pigs after 8 days will result in maximum profits. We can draw a graph of $y$:"
   ]
  },
  {
   "cell_type": "code",
   "execution_count": null,
   "metadata": {},
   "outputs": [],
   "source": [
    "def y_function(x):\n",
    "    return -0.45*x + (0.65 - 0.01*x)*(5*x + 200)\n",
    "\n",
    "# Generate x values\n",
    "x_values = np.linspace(0, 20, 100)  # Adjust the range as needed\n",
    "\n",
    "# Calculate corresponding y values\n",
    "y_values = y_function(x_values)\n",
    "\n",
    "result = minimize_scalar(lambda x: -y_function(x), bounds=(0, 20), method='bounded')\n",
    "x_max = result.x\n",
    "y_max = -result.fun\n",
    "\n",
    "# Plot the function\n",
    "plt.plot(x_values, y_values, label=r'$y = -0.45x + (0.65 - 0.01x)(5x + 200)$')\n",
    "plt.scatter(x_max, y_max, color='red', label=f'Maximum: ({x_max:.2f}, {y_max:.2f})')\n",
    "\n",
    "plt.xlabel('x')\n",
    "plt.ylabel('y')\n",
    "plt.title('Net profit f(x) of the pig problem with respect to time x')\n",
    "plt.legend()\n",
    "plt.grid(True)\n",
    "plt.show()"
   ]
  },
  {
   "cell_type": "markdown",
   "metadata": {},
   "source": [
    "## 1.2 Sensitivity Analysis\n",
    "Though we have solve the problems, yet the assumptions made are not always completely right, so we want to test the sensitivity of the assumptions. We continue working on ex.1.1.\n",
    "\n",
    "We analyze the sensitivity of best sell pig time $x$ with respect to the decreasing rate of price $r$:\n",
    "Set $r$ as an unknown parameter, then we have\n",
    "\n",
    "$$p = 0.65 - rt$$"
   ]
  },
  {
   "cell_type": "code",
   "execution_count": 25,
   "metadata": {},
   "outputs": [
    {
     "name": "stdout",
     "output_type": "stream",
     "text": [
      "-5*r*x - r*(5*x + 200) + 2.8\n",
      "sol:  [-20.0 + 0.28/r]\n"
     ]
    }
   ],
   "source": [
    "# replace p with p = 0.65 - rx\n",
    "r = symbols('r')\n",
    "f = P.subs({p: 0.65 - r * x, t: x})\n",
    "\n",
    "# find the derivative of f(x)\n",
    "df_dx = diff(f, x)\n",
    "print(df_dx)\n",
    "\n",
    "# find the point where df_dx = 0\n",
    "sol = solve(df_dx, x)\n",
    "print(\"sol: \", sol)"
   ]
  },
  {
   "cell_type": "markdown",
   "metadata": {},
   "source": [
    "Hence when $x \\geq 0$, i.e., $0 < r \\leq 0.014$, then the best selling time $x$ is given by $x = -20.0+\\frac{0.28}{r}$.\n",
    "\n",
    "Now consider the growing rate $g$ of the pigs, let\n",
    "$$w = 200 + gt$$\n",
    "then, similarly,"
   ]
  },
  {
   "cell_type": "code",
   "execution_count": 26,
   "metadata": {},
   "outputs": [
    {
     "name": "stdout",
     "output_type": "stream",
     "text": [
      "sol:  [2.5*(13.0*g - 49.0)/g]\n"
     ]
    }
   ],
   "source": [
    "# replace w with w = 200+gx\n",
    "g = symbols('g')\n",
    "y = P.subs({w: 200 + g * x, t: x})\n",
    "\n",
    "# find the derivative of f(x)\n",
    "dy_dx = diff(y, x)\n",
    "\n",
    "# find the point where dy_dx = 0\n",
    "sol_g = solve(dy_dx, x)\n",
    "print(\"sol_g: \", sol_g)\n"
   ]
  },
  {
   "cell_type": "markdown",
   "metadata": {},
   "source": [
    "In this case, when $x$ calculating from sol_g is non-negative, we conclude that it gives the best selling time of pig.\n",
    "\n",
    "### Definition: sensitivity\n",
    "If a $\\Delta r$ change of $r$ results in a $\\Delta x$ change of $x$, then we consider the ratio of the  relative changes. Let $\\Delta r \\rightarrow 0$, we define the following limit to be the *sensitivity* of $x$ with respect to $r$, denoted $S(x,\\:r)$.\n",
    "$$S(x,\\:r) = \\frac{\\Delta x/x}{\\Delta r/r} \\rightarrow \\frac{dx}{dr} \\cdot \\frac{r}{x}$$"
   ]
  },
  {
   "cell_type": "markdown",
   "metadata": {},
   "source": [
    "In the pig selling problem, when $r = 0.01$, with the calculated best selling time $x = 8$, we have \n",
    "$$\\frac{dx}{dr} = \\frac{-7}{25r^2} = -2800$$\n",
    "so\n",
    "$$S(x,r) = \\frac{dx}{dr} \\cdot \\frac{r}{x} = (-2800) \\frac{0.01}{8} = \\frac{-7}{2}$$\n",
    "We interpreted this result as \"an increase of $2 \\%$ of $r$ will results in a decrease of $7 \\%$ of $x$.\"\n",
    "\n",
    "Similarly, when $g = 5$,\n",
    "$$\\frac{dx}{dg} = \\frac{245}{2g^2} = 4.9$$\n",
    "so\n",
    "$$S(x,g) = \\frac{dx}{dg} \\cdot \\frac{g}{x} = (4.9) \\frac{5}{8} = 3.0625$$\n",
    "We interpreted this result as \"an increase of $1 \\%$ of $g$ will results in an increase of $3 \\%$ to sell the pig.\"\n",
    "\n",
    "Note that we want to make judgement before conducting the sensitivity analysis. We need to conduct analysis of those parameters with uncertainty. \n"
   ]
  },
  {
   "cell_type": "markdown",
   "metadata": {},
   "source": [
    "## 1.3 Sensitivity and Robustness\n",
    "A mathematical model is **robust** if the conclusions it leads to remain true even though the model is not completely accurate.\n",
    "\n",
    "Moving back to ex1.1, where we consider\n",
    "$$P = pw - 0.45t$$\n",
    "where $p$ is the price of pig (lb/$\\$$) and $w$ the weight of pig in pounds. If the initial data of the model is not that far away from realityy, then the best selling time of pig should be given by $P'$. Taking the derivative with respect to $t$, by the Chain rule we have\n",
    "$$p'w - pw' = 0.45$$\n",
    "$p'w+pw'$ denotes the increasing rate of pig price. Hence the model tells us that if the price of pig is increasing faster than the raising cost, then we should not sell the pig. $p'w$ stands for the loss from the decrease of price, while $pw'$ represents the value from the increase of pig weight. However, those factors may not develop as we'd expected, so the best way to solve this issue is to raise the pigs for a longer time and then reestimate $p,p',w,w'$."
   ]
  }
 ],
 "metadata": {
  "kernelspec": {
   "display_name": "Python 3",
   "language": "python",
   "name": "python3"
  },
  "language_info": {
   "codemirror_mode": {
    "name": "ipython",
    "version": 3
   },
   "file_extension": ".py",
   "mimetype": "text/x-python",
   "name": "python",
   "nbconvert_exporter": "python",
   "pygments_lexer": "ipython3",
   "version": "3.11.2"
  }
 },
 "nbformat": 4,
 "nbformat_minor": 2
}
