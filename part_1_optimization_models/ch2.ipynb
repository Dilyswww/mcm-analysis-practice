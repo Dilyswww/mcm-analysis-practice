{
 "cells": [
  {
   "attachments": {},
   "cell_type": "markdown",
   "metadata": {},
   "source": [
    "# Practice for math modeling\n",
    "This notebook serves as a way to familiarize myself with the essential functions employed during math modeling.\n",
    "This is for Chapter 2 of Meerschaert"
   ]
  },
  {
   "cell_type": "code",
   "execution_count": 18,
   "metadata": {},
   "outputs": [],
   "source": [
    "import math\n",
    "import numpy as np\n",
    "from scipy.optimize import minimize\n",
    "from sympy import symbols, diff, Eq, solve"
   ]
  },
  {
   "cell_type": "code",
   "execution_count": 26,
   "metadata": {},
   "outputs": [
    {
     "name": "stdout",
     "output_type": "stream",
     "text": [
      "dy_dx1:  -x1/50 - 7*x2/1000 + 144\n",
      "dy_dx2:  -7*x1/1000 - x2/50 + 174\n",
      "{lambda: 159 - 27*c/2000, x1: c/2 - 15000/13, x2: c/2 + 15000/13}\n",
      "y:  -210*c + (4512/13 - 13*c/2000)*(c/2 - 15000/13) + (5097/13 - 7*c/1000)*(c/2 + 15000/13) - 5650000/13\n",
      "dy_dc:  159 - 27*c/2000\n",
      "dy_dc:  24\n",
      "Result when c=10000: 78/173\n"
     ]
    }
   ],
   "source": [
    "# variable declaration\n",
    "x1, x2, lambda_, c = symbols('x1 x2 lambda c', real=True)\n",
    "\n",
    "# declare the multivariable function\n",
    "y = (339 - x1/100 - 3 * x2 / 1000) * x1 + (399 - 4 * x1 / 1000 - x2 / 100) * x2 - (400000 + 195 * x1 + 225 * x2)\n",
    "\n",
    "# calculating the partial derivatives\n",
    "dy_dx1 = diff(y, x1)\n",
    "dy_dx2 = diff(y, x2)\n",
    "\n",
    "print(\"dy_dx1: \", dy_dx1)\n",
    "print(\"dy_dx2: \", dy_dx2)\n",
    "\n",
    "# solve dy_dx1 = lambda, dy_dx2 = lambda, x1+x2 = c, x1,x2,x3\n",
    "eq1 = Eq(dy_dx1, lambda_)\n",
    "eq2 = Eq(dy_dx2, lambda_)\n",
    "eq3 = Eq(x1 + x2, c)\n",
    "\n",
    "# Solve the system of equations\n",
    "solution = solve((eq1, eq2, eq3), (x1, x2, lambda_))\n",
    "sol_x1 = solution[x1]\n",
    "sol_x2 = solution[x2]\n",
    "sol_lambda = solution[lambda_]\n",
    "\n",
    "# Print the solution\n",
    "print(solution)\n",
    "\n",
    "y_with_sol = y.subs({x1: sol_x1, x2: sol_x2, lambda_: sol_lambda})\n",
    "\n",
    "dy_with_sol_dc = diff(y_with_sol, c)\n",
    "print(\"y: \", y_with_sol)\n",
    "# c = 10000\n",
    "print(\"dy_dc: \", dy_with_sol_dc)\n",
    "print(\"dy_dc: \", dy_with_sol_dc.subs({c: 10000}))\n",
    "\n",
    "# Substitute the solutions into dy_with_sol_dc and y\n",
    "dy_dc_value = dy_with_sol_dc.subs({x1: sol_x1, x2: sol_x2, lambda_: sol_lambda})\n",
    "y_value = y_with_sol.subs({x1: sol_x1, x2: sol_x2, lambda_: sol_lambda})\n",
    "\n",
    "# Substitute c=10000 into the expression\n",
    "result = dy_dc_value * (10000) / y_value\n",
    "\n",
    "# Print the result\n",
    "print(\"Result when c=10000:\", result.subs({c:10000}))\n"
   ]
  }
 ],
 "metadata": {
  "kernelspec": {
   "display_name": "Python 3",
   "language": "python",
   "name": "python3"
  },
  "language_info": {
   "codemirror_mode": {
    "name": "ipython",
    "version": 3
   },
   "file_extension": ".py",
   "mimetype": "text/x-python",
   "name": "python",
   "nbconvert_exporter": "python",
   "pygments_lexer": "ipython3",
   "version": "3.11.2"
  },
  "orig_nbformat": 4,
  "vscode": {
   "interpreter": {
    "hash": "aee8b7b246df8f9039afb4144a1f6fd8d2ca17a180786b69acc140d282b71a49"
   }
  }
 },
 "nbformat": 4,
 "nbformat_minor": 2
}
